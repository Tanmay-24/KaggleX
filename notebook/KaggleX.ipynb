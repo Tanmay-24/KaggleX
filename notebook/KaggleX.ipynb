{
 "cells": [
  {
   "cell_type": "code",
   "execution_count": 21,
   "metadata": {},
   "outputs": [],
   "source": [
    "\n",
    "\n",
    "import pandas as pd\n",
    "import numpy as np\n",
    "import matplotlib.pyplot as plt\n",
    "import seaborn as sns\n",
    "\n"
   ]
  },
  {
   "cell_type": "code",
   "execution_count": 22,
   "metadata": {},
   "outputs": [],
   "source": [
    "\n",
    "\n",
    "train = pd.read_csv('train.csv')\n",
    "test = pd.read_csv('test.csv')\n",
    "#set index to id column\n",
    "train.set_index('id', inplace=True)\n",
    "test.set_index('id', inplace=True)\n",
    "\n"
   ]
  },
  {
   "cell_type": "code",
   "execution_count": 23,
   "metadata": {},
   "outputs": [
    {
     "data": {
      "text/html": [
       "<div>\n",
       "<style scoped>\n",
       "    .dataframe tbody tr th:only-of-type {\n",
       "        vertical-align: middle;\n",
       "    }\n",
       "\n",
       "    .dataframe tbody tr th {\n",
       "        vertical-align: top;\n",
       "    }\n",
       "\n",
       "    .dataframe thead th {\n",
       "        text-align: right;\n",
       "    }\n",
       "</style>\n",
       "<table border=\"1\" class=\"dataframe\">\n",
       "  <thead>\n",
       "    <tr style=\"text-align: right;\">\n",
       "      <th></th>\n",
       "      <th>brand</th>\n",
       "      <th>model</th>\n",
       "      <th>model_year</th>\n",
       "      <th>milage</th>\n",
       "      <th>fuel_type</th>\n",
       "      <th>engine</th>\n",
       "      <th>transmission</th>\n",
       "      <th>ext_col</th>\n",
       "      <th>int_col</th>\n",
       "      <th>accident</th>\n",
       "      <th>clean_title</th>\n",
       "      <th>price</th>\n",
       "    </tr>\n",
       "    <tr>\n",
       "      <th>id</th>\n",
       "      <th></th>\n",
       "      <th></th>\n",
       "      <th></th>\n",
       "      <th></th>\n",
       "      <th></th>\n",
       "      <th></th>\n",
       "      <th></th>\n",
       "      <th></th>\n",
       "      <th></th>\n",
       "      <th></th>\n",
       "      <th></th>\n",
       "      <th></th>\n",
       "    </tr>\n",
       "  </thead>\n",
       "  <tbody>\n",
       "    <tr>\n",
       "      <th>54268</th>\n",
       "      <td>BMW</td>\n",
       "      <td>X6 xDrive50i</td>\n",
       "      <td>2017</td>\n",
       "      <td>29000</td>\n",
       "      <td>Gasoline</td>\n",
       "      <td>445.0HP 4.4L 8 Cylinder Engine Gasoline Fuel</td>\n",
       "      <td>8-Speed A/T</td>\n",
       "      <td>White</td>\n",
       "      <td>Brown</td>\n",
       "      <td>None reported</td>\n",
       "      <td>Yes</td>\n",
       "      <td>29000</td>\n",
       "    </tr>\n",
       "    <tr>\n",
       "      <th>54269</th>\n",
       "      <td>Audi</td>\n",
       "      <td>A4 2.0T Premium</td>\n",
       "      <td>2015</td>\n",
       "      <td>94634</td>\n",
       "      <td>E85 Flex Fuel</td>\n",
       "      <td>220.0HP 2.0L 4 Cylinder Engine Flex Fuel Capab...</td>\n",
       "      <td>6-Speed A/T</td>\n",
       "      <td>Black</td>\n",
       "      <td>Black</td>\n",
       "      <td>At least 1 accident or damage reported</td>\n",
       "      <td>Yes</td>\n",
       "      <td>6500</td>\n",
       "    </tr>\n",
       "    <tr>\n",
       "      <th>54270</th>\n",
       "      <td>Porsche</td>\n",
       "      <td>Cayenne S</td>\n",
       "      <td>2013</td>\n",
       "      <td>40989</td>\n",
       "      <td>Gasoline</td>\n",
       "      <td>420.0HP 3.6L V6 Cylinder Engine Gasoline Fuel</td>\n",
       "      <td>Transmission w/Dual Shift Mode</td>\n",
       "      <td>White</td>\n",
       "      <td>Black</td>\n",
       "      <td>At least 1 accident or damage reported</td>\n",
       "      <td>Yes</td>\n",
       "      <td>18950</td>\n",
       "    </tr>\n",
       "    <tr>\n",
       "      <th>54271</th>\n",
       "      <td>Porsche</td>\n",
       "      <td>911 Carrera 4 GTS</td>\n",
       "      <td>2023</td>\n",
       "      <td>1518</td>\n",
       "      <td>Gasoline</td>\n",
       "      <td>4.0L H6 24V GDI DOHC</td>\n",
       "      <td>8-Speed Automatic with Auto-Shift</td>\n",
       "      <td>Beige</td>\n",
       "      <td>Brown</td>\n",
       "      <td>None reported</td>\n",
       "      <td>Yes</td>\n",
       "      <td>194965</td>\n",
       "    </tr>\n",
       "    <tr>\n",
       "      <th>54272</th>\n",
       "      <td>Audi</td>\n",
       "      <td>A5 Sportback S line Premium Plus</td>\n",
       "      <td>2021</td>\n",
       "      <td>35000</td>\n",
       "      <td>Hybrid</td>\n",
       "      <td>261.0HP 2.0L 4 Cylinder Engine Gasoline/Mild E...</td>\n",
       "      <td>8-Speed A/T</td>\n",
       "      <td>Black</td>\n",
       "      <td>Black</td>\n",
       "      <td>None reported</td>\n",
       "      <td>Yes</td>\n",
       "      <td>37499</td>\n",
       "    </tr>\n",
       "  </tbody>\n",
       "</table>\n",
       "</div>"
      ],
      "text/plain": [
       "         brand                             model  model_year  milage  \\\n",
       "id                                                                     \n",
       "54268      BMW                      X6 xDrive50i        2017   29000   \n",
       "54269     Audi                   A4 2.0T Premium        2015   94634   \n",
       "54270  Porsche                         Cayenne S        2013   40989   \n",
       "54271  Porsche                 911 Carrera 4 GTS        2023    1518   \n",
       "54272     Audi  A5 Sportback S line Premium Plus        2021   35000   \n",
       "\n",
       "           fuel_type                                             engine  \\\n",
       "id                                                                        \n",
       "54268       Gasoline       445.0HP 4.4L 8 Cylinder Engine Gasoline Fuel   \n",
       "54269  E85 Flex Fuel  220.0HP 2.0L 4 Cylinder Engine Flex Fuel Capab...   \n",
       "54270       Gasoline      420.0HP 3.6L V6 Cylinder Engine Gasoline Fuel   \n",
       "54271       Gasoline                               4.0L H6 24V GDI DOHC   \n",
       "54272         Hybrid  261.0HP 2.0L 4 Cylinder Engine Gasoline/Mild E...   \n",
       "\n",
       "                            transmission ext_col int_col  \\\n",
       "id                                                         \n",
       "54268                        8-Speed A/T   White   Brown   \n",
       "54269                        6-Speed A/T   Black   Black   \n",
       "54270     Transmission w/Dual Shift Mode   White   Black   \n",
       "54271  8-Speed Automatic with Auto-Shift   Beige   Brown   \n",
       "54272                        8-Speed A/T   Black   Black   \n",
       "\n",
       "                                     accident clean_title   price  \n",
       "id                                                                 \n",
       "54268                           None reported         Yes   29000  \n",
       "54269  At least 1 accident or damage reported         Yes    6500  \n",
       "54270  At least 1 accident or damage reported         Yes   18950  \n",
       "54271                           None reported         Yes  194965  \n",
       "54272                           None reported         Yes   37499  "
      ]
     },
     "execution_count": 23,
     "metadata": {},
     "output_type": "execute_result"
    }
   ],
   "source": [
    "train.tail()"
   ]
  },
  {
   "cell_type": "code",
   "execution_count": 24,
   "metadata": {},
   "outputs": [],
   "source": [
    "def age(df):\n",
    "    df['age'] =2024 - df['model_year']\n",
    "    df.drop('model_year', axis=1, inplace=True)\n",
    "    df.drop('clean_title', axis=1, inplace=True)\n",
    "\n",
    "age(train)\n",
    "age(test)\n",
    "\n"
   ]
  },
  {
   "cell_type": "code",
   "execution_count": 25,
   "metadata": {},
   "outputs": [],
   "source": [
    "train['fuel_type'].replace('–', 'Electric', inplace = True)\n",
    "test['fuel_type'].replace('–', 'Electric', inplace = True)\n",
    "train['fuel_type'].replace('not supported', 'Electric', inplace = True)\n",
    "test['fuel_type'].replace('not supported', 'Electric', inplace = True)\n"
   ]
  },
  {
   "cell_type": "code",
   "execution_count": 26,
   "metadata": {},
   "outputs": [
    {
     "name": "stdout",
     "output_type": "stream",
     "text": [
      "fuel_type\n",
      "Gasoline          33033\n",
      "Hybrid             1112\n",
      "E85 Flex Fuel      1018\n",
      "Diesel              671\n",
      "Electric            201\n",
      "Plug-In Hybrid      148\n",
      "Name: count, dtype: int64\n",
      "fuel_type\n",
      "Gasoline          49439\n",
      "Hybrid             1766\n",
      "E85 Flex Fuel      1479\n",
      "Diesel             1109\n",
      "Electric            298\n",
      "Plug-In Hybrid      182\n",
      "Name: count, dtype: int64\n"
     ]
    }
   ],
   "source": [
    "\n",
    "\n",
    "print(test['fuel_type'].value_counts())\n",
    "print(train['fuel_type'].value_counts())\n",
    "\n"
   ]
  },
  {
   "cell_type": "code",
   "execution_count": 27,
   "metadata": {},
   "outputs": [],
   "source": [
    "import re\n",
    "# Define function to extract power\n",
    "def extract_power(engine_type):\n",
    "    match = re.search(r'(\\d+\\.\\d+)HP|\\d+\\.\\d+', engine_type)\n",
    "    return match.group(1) if match else np.nan\n",
    "\n",
    "# Define function to extract displacement\n",
    "def extract_displacement(engine_type):\n",
    "    match = re.search(r'(\\d+\\.\\d+)L', engine_type)\n",
    "    return match.group(1) if match else np.nan\n",
    "\n",
    "# Define function to extract number of cylinders\n",
    "def extract_cylinders(engine_type):\n",
    "    match = re.search(r'(\\d+)\\s*Cylinders?', engine_type, re.IGNORECASE)\n",
    "    return match.group(1) if match else np.nan\n",
    "\n",
    "train['power'] = train['engine'].apply(extract_power)\n",
    "test['power'] = test['engine'].apply(extract_power)\n",
    "train['displacement'] = train['engine'].apply(extract_displacement)\n",
    "test['displacement'] = test['engine'].apply(extract_displacement)\n",
    "train['cylinders'] = train['engine'].apply(extract_cylinders)\n",
    "test['cylinders'] = test['engine'].apply(extract_cylinders)"
   ]
  },
  {
   "cell_type": "code",
   "execution_count": 28,
   "metadata": {},
   "outputs": [],
   "source": [
    "train['power'] = pd.to_numeric(train['power'], errors = 'coerce')\n",
    "test['power'] = pd.to_numeric(test['power'], errors = 'coerce')\n"
   ]
  },
  {
   "cell_type": "code",
   "execution_count": 29,
   "metadata": {},
   "outputs": [],
   "source": [
    "\n",
    "\n",
    "train['power'].fillna(train['power'].mean(), inplace = True)\n",
    "test['power'].fillna(test['power'].mean(), inplace = True)\n",
    "\n"
   ]
  },
  {
   "cell_type": "code",
   "execution_count": 30,
   "metadata": {},
   "outputs": [],
   "source": [
    "train['displacement'] = pd.to_numeric(train['displacement'], errors = 'coerce')\n",
    "test['displacement'] = pd.to_numeric(test['displacement'], errors = 'coerce')\n",
    "\n",
    "train['displacement'].fillna(train['displacement'].mean(), inplace = True)\n",
    "test['displacement'].fillna(test['displacement'].mean(), inplace = True)\n",
    "\n",
    "train['cylinders'] = pd.to_numeric(train['cylinders'], errors = 'coerce')\n",
    "test['cylinders'] = pd.to_numeric(test['cylinders'], errors = 'coerce')\n",
    "\n",
    "train['cylinders'].fillna(train['cylinders'].mean(), inplace = True)\n",
    "test['cylinders'].fillna(test['cylinders'].mean(), inplace = True)\n"
   ]
  },
  {
   "cell_type": "code",
   "execution_count": 31,
   "metadata": {},
   "outputs": [],
   "source": [
    "\n",
    "\n",
    "train.drop('engine', axis=1, inplace=True)\n",
    "test.drop('engine', axis=1, inplace=True)\n",
    "\n"
   ]
  },
  {
   "cell_type": "code",
   "execution_count": 32,
   "metadata": {},
   "outputs": [],
   "source": [
    "\n",
    "\n",
    "train.drop('model', axis=1, inplace=True)\n",
    "test.drop('model', axis=1, inplace=True)\n",
    "train.drop('ext_col', axis=1, inplace=True)\n",
    "test.drop('ext_col', axis=1, inplace=True)\n",
    "train.drop('int_col', axis=1, inplace=True)\n",
    "test.drop('int_col', axis=1, inplace=True)\n",
    "\n"
   ]
  },
  {
   "cell_type": "code",
   "execution_count": 33,
   "metadata": {},
   "outputs": [],
   "source": [
    "\n",
    "\n",
    "# For the 'train' DataFrame\n",
    "train['accident'] = train['accident'].apply(lambda x: 1 if x == 'None reported' else 0)\n",
    "\n",
    "# For the 'test' DataFrame\n",
    "test['accident'] = test['accident'].apply(lambda x: 1 if x == 'None reported' else 0)\n",
    "\n"
   ]
  },
  {
   "cell_type": "code",
   "execution_count": 34,
   "metadata": {},
   "outputs": [],
   "source": [
    "import re\n",
    "\n",
    "# Define function to extract transmission type\n",
    "def extract_transmission(engine_type):\n",
    "    # Define a pattern that matches the desired terms\n",
    "    pattern = r'\\b(A/T|Automatic|CVT|w/Dual Shift|M/T)\\b'\n",
    "    match = re.search(pattern, engine_type)\n",
    "    return match.group(1) if match else None\n",
    "\n",
    "# Apply the extract_transmission function to the 'engine_type' column\n",
    "train['new_trans'] = train['transmission'].apply(extract_transmission)\n",
    "test['new_trans'] = test['transmission'].apply(extract_transmission)\n",
    "\n"
   ]
  },
  {
   "cell_type": "code",
   "execution_count": 35,
   "metadata": {},
   "outputs": [],
   "source": [
    "\n",
    "\n",
    "test.drop(['fuel_type'], axis=1, inplace=True)\n",
    "train.drop(['fuel_type'], axis=1, inplace=True)\n"
   ]
  },
  {
   "cell_type": "code",
   "execution_count": 36,
   "metadata": {},
   "outputs": [],
   "source": [
    "#lable encode\n",
    "from sklearn.preprocessing import LabelEncoder\n",
    "le = LabelEncoder()\n",
    "train['brand'] = le.fit_transform(train['brand'])\n",
    "test['brand'] = le.fit_transform(test['brand'])\n",
    "train['transmission'] = le.fit_transform(train['transmission'])\n",
    "test['transmission'] = le.fit_transform(test['transmission'])\n",
    "train['new_trans'] = le.fit_transform(train['new_trans'])\n",
    "test['new_trans'] = le.fit_transform(test['new_trans'])"
   ]
  },
  {
   "cell_type": "code",
   "execution_count": 37,
   "metadata": {},
   "outputs": [
    {
     "data": {
      "text/html": [
       "<div>\n",
       "<style scoped>\n",
       "    .dataframe tbody tr th:only-of-type {\n",
       "        vertical-align: middle;\n",
       "    }\n",
       "\n",
       "    .dataframe tbody tr th {\n",
       "        vertical-align: top;\n",
       "    }\n",
       "\n",
       "    .dataframe thead th {\n",
       "        text-align: right;\n",
       "    }\n",
       "</style>\n",
       "<table border=\"1\" class=\"dataframe\">\n",
       "  <thead>\n",
       "    <tr style=\"text-align: right;\">\n",
       "      <th></th>\n",
       "      <th>brand</th>\n",
       "      <th>milage</th>\n",
       "      <th>transmission</th>\n",
       "      <th>accident</th>\n",
       "      <th>price</th>\n",
       "      <th>age</th>\n",
       "      <th>power</th>\n",
       "      <th>displacement</th>\n",
       "      <th>cylinders</th>\n",
       "      <th>new_trans</th>\n",
       "    </tr>\n",
       "    <tr>\n",
       "      <th>id</th>\n",
       "      <th></th>\n",
       "      <th></th>\n",
       "      <th></th>\n",
       "      <th></th>\n",
       "      <th></th>\n",
       "      <th></th>\n",
       "      <th></th>\n",
       "      <th></th>\n",
       "      <th></th>\n",
       "      <th></th>\n",
       "    </tr>\n",
       "  </thead>\n",
       "  <tbody>\n",
       "    <tr>\n",
       "      <th>54268</th>\n",
       "      <td>4</td>\n",
       "      <td>29000</td>\n",
       "      <td>27</td>\n",
       "      <td>1</td>\n",
       "      <td>29000</td>\n",
       "      <td>7</td>\n",
       "      <td>445.000000</td>\n",
       "      <td>4.4</td>\n",
       "      <td>8.000000</td>\n",
       "      <td>0</td>\n",
       "    </tr>\n",
       "    <tr>\n",
       "      <th>54269</th>\n",
       "      <td>3</td>\n",
       "      <td>94634</td>\n",
       "      <td>14</td>\n",
       "      <td>0</td>\n",
       "      <td>6500</td>\n",
       "      <td>9</td>\n",
       "      <td>220.000000</td>\n",
       "      <td>2.0</td>\n",
       "      <td>4.000000</td>\n",
       "      <td>0</td>\n",
       "    </tr>\n",
       "    <tr>\n",
       "      <th>54270</th>\n",
       "      <td>41</td>\n",
       "      <td>40989</td>\n",
       "      <td>43</td>\n",
       "      <td>0</td>\n",
       "      <td>18950</td>\n",
       "      <td>11</td>\n",
       "      <td>420.000000</td>\n",
       "      <td>3.6</td>\n",
       "      <td>6.000000</td>\n",
       "      <td>4</td>\n",
       "    </tr>\n",
       "    <tr>\n",
       "      <th>54271</th>\n",
       "      <td>41</td>\n",
       "      <td>1518</td>\n",
       "      <td>29</td>\n",
       "      <td>1</td>\n",
       "      <td>194965</td>\n",
       "      <td>1</td>\n",
       "      <td>331.698323</td>\n",
       "      <td>4.0</td>\n",
       "      <td>6.282347</td>\n",
       "      <td>1</td>\n",
       "    </tr>\n",
       "    <tr>\n",
       "      <th>54272</th>\n",
       "      <td>3</td>\n",
       "      <td>35000</td>\n",
       "      <td>27</td>\n",
       "      <td>1</td>\n",
       "      <td>37499</td>\n",
       "      <td>3</td>\n",
       "      <td>261.000000</td>\n",
       "      <td>2.0</td>\n",
       "      <td>4.000000</td>\n",
       "      <td>0</td>\n",
       "    </tr>\n",
       "  </tbody>\n",
       "</table>\n",
       "</div>"
      ],
      "text/plain": [
       "       brand  milage  transmission  accident   price  age       power  \\\n",
       "id                                                                      \n",
       "54268      4   29000            27         1   29000    7  445.000000   \n",
       "54269      3   94634            14         0    6500    9  220.000000   \n",
       "54270     41   40989            43         0   18950   11  420.000000   \n",
       "54271     41    1518            29         1  194965    1  331.698323   \n",
       "54272      3   35000            27         1   37499    3  261.000000   \n",
       "\n",
       "       displacement  cylinders  new_trans  \n",
       "id                                         \n",
       "54268           4.4   8.000000          0  \n",
       "54269           2.0   4.000000          0  \n",
       "54270           3.6   6.000000          4  \n",
       "54271           4.0   6.282347          1  \n",
       "54272           2.0   4.000000          0  "
      ]
     },
     "execution_count": 37,
     "metadata": {},
     "output_type": "execute_result"
    }
   ],
   "source": [
    "train.tail()"
   ]
  },
  {
   "cell_type": "code",
   "execution_count": 38,
   "metadata": {},
   "outputs": [],
   "source": [
    "from sklearn.model_selection import train_test_split\n",
    "X = train.drop(columns=['price'])\n",
    "y = train['price']\n",
    "X_train, X_val, y_train, y_val = train_test_split(X, y, test_size=0.2, random_state=42)\n",
    "# from sklearn.preprocessing import Normalizer\n",
    "\n",
    "# scaler = Normalizer()\n",
    "# X_train_scaled = scaler.fit_transform(X_train)\n",
    "# X_val_scaled = scaler.transform(X_val)\n"
   ]
  },
  {
   "cell_type": "code",
   "execution_count": 39,
   "metadata": {},
   "outputs": [],
   "source": [
    "#display the scaled data\n",
    "#pd.DataFrame(X_train_scaled, columns=X_train.columns).head()"
   ]
  },
  {
   "cell_type": "code",
   "execution_count": 40,
   "metadata": {},
   "outputs": [
    {
     "name": "stdout",
     "output_type": "stream",
     "text": [
      "Epoch 1/100\n"
     ]
    },
    {
     "name": "stderr",
     "output_type": "stream",
     "text": [
      "/home/tanmay/anaconda3/lib/python3.11/site-packages/keras/src/layers/core/dense.py:87: UserWarning: Do not pass an `input_shape`/`input_dim` argument to a layer. When using Sequential models, prefer using an `Input(shape)` object as the first layer in the model instead.\n",
      "  super().__init__(activity_regularizer=activity_regularizer, **kwargs)\n"
     ]
    },
    {
     "name": "stdout",
     "output_type": "stream",
     "text": [
      "\u001b[1m1357/1357\u001b[0m \u001b[32m━━━━━━━━━━━━━━━━━━━━\u001b[0m\u001b[37m\u001b[0m \u001b[1m5s\u001b[0m 3ms/step - loss: 5877459968.0000 - mae: 29584.5586 - val_loss: 2464645632.0000 - val_mae: 18617.1230 - learning_rate: 0.0010\n",
      "Epoch 2/100\n",
      "\u001b[1m1357/1357\u001b[0m \u001b[32m━━━━━━━━━━━━━━━━━━━━\u001b[0m\u001b[37m\u001b[0m \u001b[1m3s\u001b[0m 2ms/step - loss: 4762933248.0000 - mae: 20456.2969 - val_loss: 2517216768.0000 - val_mae: 18992.7129 - learning_rate: 0.0010\n",
      "Epoch 3/100\n",
      "\u001b[1m1357/1357\u001b[0m \u001b[32m━━━━━━━━━━━━━━━━━━━━\u001b[0m\u001b[37m\u001b[0m \u001b[1m3s\u001b[0m 2ms/step - loss: 5115459072.0000 - mae: 20331.8398 - val_loss: 2670816768.0000 - val_mae: 19913.9434 - learning_rate: 0.0010\n",
      "Epoch 4/100\n",
      "\u001b[1m1357/1357\u001b[0m \u001b[32m━━━━━━━━━━━━━━━━━━━━\u001b[0m\u001b[37m\u001b[0m \u001b[1m3s\u001b[0m 2ms/step - loss: 3606514432.0000 - mae: 19027.3945 - val_loss: 2603310848.0000 - val_mae: 18905.9199 - learning_rate: 0.0010\n",
      "Epoch 5/100\n",
      "\u001b[1m1357/1357\u001b[0m \u001b[32m━━━━━━━━━━━━━━━━━━━━\u001b[0m\u001b[37m\u001b[0m \u001b[1m3s\u001b[0m 2ms/step - loss: 5736340480.0000 - mae: 20393.1113 - val_loss: 2439234816.0000 - val_mae: 16911.6367 - learning_rate: 0.0010\n",
      "Epoch 6/100\n",
      "\u001b[1m1357/1357\u001b[0m \u001b[32m━━━━━━━━━━━━━━━━━━━━\u001b[0m\u001b[37m\u001b[0m \u001b[1m3s\u001b[0m 2ms/step - loss: 6316354560.0000 - mae: 20133.8398 - val_loss: 2438755584.0000 - val_mae: 17037.7480 - learning_rate: 0.0010\n",
      "Epoch 7/100\n",
      "\u001b[1m1357/1357\u001b[0m \u001b[32m━━━━━━━━━━━━━━━━━━━━\u001b[0m\u001b[37m\u001b[0m \u001b[1m3s\u001b[0m 2ms/step - loss: 5856508416.0000 - mae: 20161.8828 - val_loss: 2467745024.0000 - val_mae: 16778.0371 - learning_rate: 0.0010\n",
      "Epoch 8/100\n",
      "\u001b[1m1357/1357\u001b[0m \u001b[32m━━━━━━━━━━━━━━━━━━━━\u001b[0m\u001b[37m\u001b[0m \u001b[1m3s\u001b[0m 2ms/step - loss: 7024805376.0000 - mae: 20676.4414 - val_loss: 2531191296.0000 - val_mae: 18845.6562 - learning_rate: 0.0010\n",
      "Epoch 9/100\n",
      "\u001b[1m1357/1357\u001b[0m \u001b[32m━━━━━━━━━━━━━━━━━━━━\u001b[0m\u001b[37m\u001b[0m \u001b[1m3s\u001b[0m 2ms/step - loss: 6519678464.0000 - mae: 20586.5430 - val_loss: 2433911808.0000 - val_mae: 17209.7637 - learning_rate: 0.0010\n",
      "Epoch 10/100\n",
      "\u001b[1m1357/1357\u001b[0m \u001b[32m━━━━━━━━━━━━━━━━━━━━\u001b[0m\u001b[37m\u001b[0m \u001b[1m3s\u001b[0m 3ms/step - loss: 6389859840.0000 - mae: 19991.9395 - val_loss: 2440647680.0000 - val_mae: 17061.4668 - learning_rate: 0.0010\n",
      "Epoch 11/100\n",
      "\u001b[1m1357/1357\u001b[0m \u001b[32m━━━━━━━━━━━━━━━━━━━━\u001b[0m\u001b[37m\u001b[0m \u001b[1m3s\u001b[0m 2ms/step - loss: 5293944320.0000 - mae: 19775.7715 - val_loss: 2477902592.0000 - val_mae: 19232.6035 - learning_rate: 0.0010\n",
      "Epoch 12/100\n",
      "\u001b[1m1357/1357\u001b[0m \u001b[32m━━━━━━━━━━━━━━━━━━━━\u001b[0m\u001b[37m\u001b[0m \u001b[1m3s\u001b[0m 2ms/step - loss: 5698881024.0000 - mae: 19964.1641 - val_loss: 2439134976.0000 - val_mae: 16940.3750 - learning_rate: 0.0010\n",
      "Epoch 13/100\n",
      "\u001b[1m1357/1357\u001b[0m \u001b[32m━━━━━━━━━━━━━━━━━━━━\u001b[0m\u001b[37m\u001b[0m \u001b[1m3s\u001b[0m 2ms/step - loss: 5232781824.0000 - mae: 19214.2793 - val_loss: 2962929920.0000 - val_mae: 31060.9062 - learning_rate: 0.0010\n",
      "Epoch 14/100\n",
      "\u001b[1m1357/1357\u001b[0m \u001b[32m━━━━━━━━━━━━━━━━━━━━\u001b[0m\u001b[37m\u001b[0m \u001b[1m4s\u001b[0m 3ms/step - loss: 4809769472.0000 - mae: 19874.8789 - val_loss: 2449192192.0000 - val_mae: 16613.0938 - learning_rate: 0.0010\n",
      "Epoch 15/100\n",
      "\u001b[1m1357/1357\u001b[0m \u001b[32m━━━━━━━━━━━━━━━━━━━━\u001b[0m\u001b[37m\u001b[0m \u001b[1m3s\u001b[0m 3ms/step - loss: 6209662976.0000 - mae: 19948.1895 - val_loss: 2451801088.0000 - val_mae: 18888.6484 - learning_rate: 0.0010\n",
      "Epoch 16/100\n",
      "\u001b[1m1357/1357\u001b[0m \u001b[32m━━━━━━━━━━━━━━━━━━━━\u001b[0m\u001b[37m\u001b[0m \u001b[1m3s\u001b[0m 3ms/step - loss: 4105501184.0000 - mae: 18808.9512 - val_loss: 2444584448.0000 - val_mae: 17804.0078 - learning_rate: 0.0010\n",
      "Epoch 17/100\n",
      "\u001b[1m1357/1357\u001b[0m \u001b[32m━━━━━━━━━━━━━━━━━━━━\u001b[0m\u001b[37m\u001b[0m \u001b[1m3s\u001b[0m 3ms/step - loss: 5171245568.0000 - mae: 19271.1309 - val_loss: 2430561024.0000 - val_mae: 17209.4375 - learning_rate: 0.0010\n",
      "Epoch 18/100\n",
      "\u001b[1m1357/1357\u001b[0m \u001b[32m━━━━━━━━━━━━━━━━━━━━\u001b[0m\u001b[37m\u001b[0m \u001b[1m3s\u001b[0m 2ms/step - loss: 4741823488.0000 - mae: 19224.4043 - val_loss: 2451964928.0000 - val_mae: 17894.7812 - learning_rate: 0.0010\n",
      "Epoch 19/100\n",
      "\u001b[1m1357/1357\u001b[0m \u001b[32m━━━━━━━━━━━━━━━━━━━━\u001b[0m\u001b[37m\u001b[0m \u001b[1m3s\u001b[0m 3ms/step - loss: 5867286016.0000 - mae: 19619.2227 - val_loss: 2437309952.0000 - val_mae: 17117.1191 - learning_rate: 0.0010\n",
      "Epoch 20/100\n",
      "\u001b[1m1357/1357\u001b[0m \u001b[32m━━━━━━━━━━━━━━━━━━━━\u001b[0m\u001b[37m\u001b[0m \u001b[1m3s\u001b[0m 2ms/step - loss: 7284776960.0000 - mae: 20458.3828 - val_loss: 2436051712.0000 - val_mae: 17031.0215 - learning_rate: 0.0010\n",
      "Epoch 21/100\n",
      "\u001b[1m1357/1357\u001b[0m \u001b[32m━━━━━━━━━━━━━━━━━━━━\u001b[0m\u001b[37m\u001b[0m \u001b[1m3s\u001b[0m 3ms/step - loss: 5187681792.0000 - mae: 19562.8711 - val_loss: 2444595456.0000 - val_mae: 18371.1719 - learning_rate: 0.0010\n",
      "Epoch 22/100\n",
      "\u001b[1m1357/1357\u001b[0m \u001b[32m━━━━━━━━━━━━━━━━━━━━\u001b[0m\u001b[37m\u001b[0m \u001b[1m3s\u001b[0m 2ms/step - loss: 5070904832.0000 - mae: 19470.0918 - val_loss: 2435352832.0000 - val_mae: 18179.5605 - learning_rate: 0.0010\n",
      "Epoch 23/100\n",
      "\u001b[1m1357/1357\u001b[0m \u001b[32m━━━━━━━━━━━━━━━━━━━━\u001b[0m\u001b[37m\u001b[0m \u001b[1m3s\u001b[0m 2ms/step - loss: 4680359936.0000 - mae: 19337.7090 - val_loss: 2458150656.0000 - val_mae: 17293.1367 - learning_rate: 0.0010\n",
      "Epoch 24/100\n",
      "\u001b[1m1357/1357\u001b[0m \u001b[32m━━━━━━━━━━━━━━━━━━━━\u001b[0m\u001b[37m\u001b[0m \u001b[1m3s\u001b[0m 2ms/step - loss: 4997154304.0000 - mae: 19248.1484 - val_loss: 2470465536.0000 - val_mae: 19884.8750 - learning_rate: 0.0010\n",
      "Epoch 25/100\n",
      "\u001b[1m1357/1357\u001b[0m \u001b[32m━━━━━━━━━━━━━━━━━━━━\u001b[0m\u001b[37m\u001b[0m \u001b[1m3s\u001b[0m 3ms/step - loss: 5673270784.0000 - mae: 19983.6816 - val_loss: 2438477824.0000 - val_mae: 16825.7969 - learning_rate: 0.0010\n",
      "Epoch 26/100\n",
      "\u001b[1m1357/1357\u001b[0m \u001b[32m━━━━━━━━━━━━━━━━━━━━\u001b[0m\u001b[37m\u001b[0m \u001b[1m3s\u001b[0m 3ms/step - loss: 5942299648.0000 - mae: 20007.9727 - val_loss: 2437314816.0000 - val_mae: 16658.0078 - learning_rate: 0.0010\n",
      "Epoch 27/100\n",
      "\u001b[1m1357/1357\u001b[0m \u001b[32m━━━━━━━━━━━━━━━━━━━━\u001b[0m\u001b[37m\u001b[0m \u001b[1m4s\u001b[0m 3ms/step - loss: 5462884864.0000 - mae: 19276.0137 - val_loss: 2480978432.0000 - val_mae: 20296.5527 - learning_rate: 0.0010\n"
     ]
    }
   ],
   "source": [
    "import tensorflow as tf\n",
    "from tensorflow.keras.models import Sequential\n",
    "from tensorflow.keras.layers import Dense, Dropout\n",
    "from tensorflow.keras.callbacks import EarlyStopping, ReduceLROnPlateau\n",
    "\n",
    "## Define the neural network model\n",
    "model = Sequential([\n",
    "    Dense(128, activation='relu', input_shape=(X_train.shape[1],)),\n",
    "    Dropout(0.2),\n",
    "    Dense(128, activation='relu'),\n",
    "    Dropout(0.2),\n",
    "    Dense(64, activation='relu'),\n",
    "    Dense(1)\n",
    "])\n",
    "\n",
    "# Define callbacks\n",
    "early_stopping = EarlyStopping(monitor='val_loss', patience=10, restore_best_weights=True)\n",
    "reduce_lr = ReduceLROnPlateau(monitor='val_loss', factor=0.2, patience=5, min_lr=0.001)\n",
    "\n",
    "# Compile the model\n",
    "model.compile(optimizer='adam', loss='mse', metrics=['mae'])\n",
    "\n",
    "# Train the model\n",
    "history = model.fit(X_train, y_train, epochs=100, validation_data=(X_val, y_val), batch_size=32, callbacks=[early_stopping, reduce_lr])"
   ]
  },
  {
   "cell_type": "code",
   "execution_count": 41,
   "metadata": {},
   "outputs": [
    {
     "name": "stdout",
     "output_type": "stream",
     "text": [
      "\u001b[1m340/340\u001b[0m \u001b[32m━━━━━━━━━━━━━━━━━━━━\u001b[0m\u001b[37m\u001b[0m \u001b[1m1s\u001b[0m 2ms/step - loss: 2711514624.0000 - mae: 17158.3848\n",
      "Validation MAE: 17209.4375\n"
     ]
    }
   ],
   "source": [
    "val_loss, val_mae = model.evaluate(X_val, y_val)\n",
    "print(f'Validation MAE: {val_mae}')\n",
    "X_test= test"
   ]
  },
  {
   "cell_type": "code",
   "execution_count": 42,
   "metadata": {},
   "outputs": [
    {
     "name": "stdout",
     "output_type": "stream",
     "text": [
      "\u001b[1m1131/1131\u001b[0m \u001b[32m━━━━━━━━━━━━━━━━━━━━\u001b[0m\u001b[37m\u001b[0m \u001b[1m1s\u001b[0m 1ms/step\n"
     ]
    }
   ],
   "source": [
    "predictions = model.predict(X_test)"
   ]
  },
  {
   "cell_type": "code",
   "execution_count": 43,
   "metadata": {},
   "outputs": [
    {
     "name": "stdout",
     "output_type": "stream",
     "text": [
      "36183\n"
     ]
    }
   ],
   "source": [
    "print(len(predictions))"
   ]
  },
  {
   "cell_type": "code",
   "execution_count": 44,
   "metadata": {},
   "outputs": [],
   "source": [
    "test['price'] = predictions\n",
    "test['id'] = test.index\n",
    "test = test[['id', 'price']]\n",
    "test.to_csv('submission.csv', index=False)"
   ]
  },
  {
   "cell_type": "code",
   "execution_count": null,
   "metadata": {},
   "outputs": [],
   "source": []
  }
 ],
 "metadata": {
  "kernelspec": {
   "display_name": "base",
   "language": "python",
   "name": "python3"
  },
  "language_info": {
   "codemirror_mode": {
    "name": "ipython",
    "version": 3
   },
   "file_extension": ".py",
   "mimetype": "text/x-python",
   "name": "python",
   "nbconvert_exporter": "python",
   "pygments_lexer": "ipython3",
   "version": "3.11.7"
  }
 },
 "nbformat": 4,
 "nbformat_minor": 2
}
